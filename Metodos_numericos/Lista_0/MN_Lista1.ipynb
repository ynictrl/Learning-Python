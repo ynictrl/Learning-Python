{
 "cells": [
  {
   "cell_type": "markdown",
   "id": "844c57da",
   "metadata": {},
   "source": [
    "## Lista"
   ]
  },
  {
   "cell_type": "markdown",
   "id": "ba8ec981",
   "metadata": {},
   "source": [
    "1. Escreva um programa que, dados très valores inteiros diferentes entre si, apresente o maior de tais valores. "
   ]
  },
  {
   "cell_type": "code",
   "execution_count": 5,
   "id": "3c92d15a",
   "metadata": {},
   "outputs": [
    {
     "name": "stdout",
     "output_type": "stream",
     "text": [
      "2 ou mais valores são iguais!\n"
     ]
    }
   ],
   "source": [
    "def maior_valor(a, b, c):\n",
    "    if a > b and a > c:\n",
    "        return f'A {a} é o maior valor!'\n",
    "    if b > a and b > c:\n",
    "        return f'B {b} é o maior valor!'\n",
    "    if c > a and c > b:\n",
    "        return f'C {c} é o maior valor!'\n",
    "    \n",
    "    return '2 ou mais valores são iguais!'\n",
    "    \n",
    "print(maior_valor(12, 12, 12))"
   ]
  },
  {
   "cell_type": "markdown",
   "id": "1c382470",
   "metadata": {},
   "source": [
    "2. Faça um programa que apresente os n primeiros números primos a partir do \n",
    "número 1 para um valor n > 0 fornecido pelo usuário. "
   ]
  },
  {
   "cell_type": "code",
   "execution_count": 6,
   "id": "1ef94b3a",
   "metadata": {},
   "outputs": [
    {
     "name": "stdout",
     "output_type": "stream",
     "text": [
      "[1, 2, 3, 5, 7, 11, 13, 17, 19, 23]\n"
     ]
    }
   ],
   "source": [
    "# [ 1, 2, 3, 5, 7, 11, 13, 17...]\n",
    "numeros = []\n",
    "\n",
    "i=1\n",
    "j=1\n",
    "n = 10\n",
    "while len(numeros) != n:\n",
    "    count = 0\n",
    "    for j in range(2, i):\n",
    "            \n",
    "        res = i%j\n",
    "        if (res == 0 and i != j):\n",
    "            count += 1\n",
    "        j += 1\n",
    "\n",
    "    if count == 0:\n",
    "        numeros.append(i)\n",
    "        \n",
    "    i += 1\n",
    "\n",
    "print(numeros)"
   ]
  },
  {
   "cell_type": "markdown",
   "id": "9eef5109",
   "metadata": {},
   "source": [
    "3. Diz-se que um número inteiro n é um quadrado perfeito se existirem m números impares consecutivos a partir do valor 1 cuja soma é igual a n e n = m2. Ex- emplo: 16-1+3+5+7 (16 é igual à soma dos quatro primeiros impares a partir de 1) e 16 42. Logo 16 representa um quadrado perfeito. Faça um programa que verifique se um valor inteiro positivo fomecido pelo usuário é um quadrado perfeito ou não. "
   ]
  },
  {
   "cell_type": "code",
   "execution_count": 7,
   "id": "5c754f74",
   "metadata": {},
   "outputs": [
    {
     "name": "stdout",
     "output_type": "stream",
     "text": [
      "1 [1]\n",
      "4 [1, 3]\n",
      "9 [1, 3, 5]\n",
      "16 [1, 3, 5, 7]\n",
      "16 é um quadrado perfeito!\n"
     ]
    }
   ],
   "source": [
    "num = 16\n",
    "res = 0\n",
    "i = 1\n",
    "impares = [] \n",
    "\n",
    "while res < num: \n",
    "    impares.append(i)\n",
    "    res = sum(impares)\n",
    "    \n",
    "    print(res, impares)\n",
    "\n",
    "    i += 2\n",
    "\n",
    "if res == num:\n",
    "    print(f'{num} é um quadrado perfeito!')\n",
    "else:\n",
    "    print(f'{num} não é um quadrado perfeito!')\n"
   ]
  },
  {
   "cell_type": "markdown",
   "id": "955e56b5",
   "metadata": {},
   "source": [
    "4. Fazer um programa leia uma seqüência de valores inteiros fornecida pelo usuário em uma linha de entrada\n",
    "e conte o número de valores positivos, negativos e zeros. "
   ]
  },
  {
   "cell_type": "code",
   "execution_count": 8,
   "id": "a22e6fd8",
   "metadata": {},
   "outputs": [
    {
     "name": "stdout",
     "output_type": "stream",
     "text": [
      "Os números listados possuem:\n",
      "3 números negativos\n",
      "2 números zeros\n",
      "3 números positivos\n",
      "\n"
     ]
    }
   ],
   "source": [
    "numeros = [-3, 0, 5, 12, -3, 5, 0, -1] # 2 zeros, 3 pos, 3 neg\n",
    "count = [0, 0, 0] # [0] == neg, [1] == zero, [2] == pos\n",
    "\n",
    "for i in numeros:\n",
    "    if i < 0: \n",
    "        count[0] += 1\n",
    "    if i == 0: \n",
    "        count[1] += 1\n",
    "    if i > 0: \n",
    "        count[2] += 1\n",
    "\n",
    "print(f'Os números listados possuem:\\n'\n",
    "      f'{count[0]} números negativos\\n'\n",
    "      f'{count[1]} números zeros\\n'\n",
    "      f'{count[2]} números positivos\\n')\n",
    "    "
   ]
  },
  {
   "cell_type": "markdown",
   "id": "9bbc3c8c",
   "metadata": {},
   "source": [
    "5. Adaptar o programa acima para que ele calcule o percentual dos valores positivos, negativos e zeros em relação ao total de valores fornecidos. "
   ]
  },
  {
   "cell_type": "code",
   "execution_count": 9,
   "id": "94cf21ff",
   "metadata": {},
   "outputs": [
    {
     "name": "stdout",
     "output_type": "stream",
     "text": [
      "Os números listados possuem:\n",
      "37.5% números negativos\n",
      "25.0% números zeros\n",
      "37.5% números positivos\n",
      "\n"
     ]
    }
   ],
   "source": [
    "numeros = [-3, 0, 5, 12, -3, 5, 0, -1] # 2 zeros, 3 pos, 3 neg\n",
    "count = [0, 0, 0] # [0] == neg, [1] == zero, [2] == pos\n",
    "\n",
    "for i in numeros:\n",
    "    if i < 0: \n",
    "        count[0] += 1\n",
    "    if i == 0: \n",
    "        count[1] += 1\n",
    "    if i > 0: \n",
    "        count[2] += 1\n",
    "\n",
    "print(f'Os números listados possuem:\\n'\n",
    "      f'{count[0]*100/len(numeros)}% números negativos\\n'\n",
    "      f'{count[1]*100/len(numeros)}% números zeros\\n'\n",
    "      f'{count[2]*100/len(numeros)}% números positivos\\n')\n",
    "    "
   ]
  },
  {
   "cell_type": "markdown",
   "id": "96bce948",
   "metadata": {},
   "source": [
    "6. Escrever um programa que, para uma dada seqüência de valores inteiros fornecidos em uma linha de entrada pelo usuário de comprimento maior ou igual at 3, \n",
    "calcule o número de triplas (subseqüências de comprimento 3) com valores iguais existentes na seqüência dada. \n",
    "Exemplo: Para a seqüència 4 2 15 15 15 3 7 7 7 7 2 o programa deve produzir o resultado 3, pois a seqüência dada contém uma tripla com valores 15 e duas (sobrepostas) com valores 7. \n"
   ]
  },
  {
   "cell_type": "code",
   "execution_count": 10,
   "id": "a2d63b56",
   "metadata": {},
   "outputs": [
    {
     "name": "stdout",
     "output_type": "stream",
     "text": [
      "A seqüência dada contém 3 tripla(s).\n"
     ]
    }
   ],
   "source": [
    "numbers = [4, 2, 15, 15, 15, 3, 7, 7, 7, 7, 2]\n",
    "\n",
    "count = 0 # contagem\n",
    "pred = 0 # antecessor\n",
    "tripla = 0\n",
    "\n",
    "for i in numbers:\n",
    "    if i != pred:\n",
    "        count = 0\n",
    "\n",
    "    pred = i\n",
    "    count += 1\n",
    "\n",
    "    if count >= 3:\n",
    "        tripla += 1\n",
    "\n",
    "print(f'A seqüência dada contém {tripla} tripla(s).')"
   ]
  },
  {
   "cell_type": "markdown",
   "id": "a884b41c",
   "metadata": {},
   "source": [
    "7. Produza duas versões de um programa que escreva n≥ 0 asteriscos em uma linha sendo o valor n fornecido pelo usuário. \n",
    "A primeira versão deve utilizar o comando for, e a segunda o comando while. \n",
    "Compare as duas versões. "
   ]
  },
  {
   "cell_type": "code",
   "execution_count": 11,
   "id": "a046d75f",
   "metadata": {},
   "outputs": [
    {
     "name": "stdout",
     "output_type": "stream",
     "text": [
      "for:***** | while:*****\n"
     ]
    }
   ],
   "source": [
    "n = 5\n",
    "asteriscos_for = ''\n",
    "asteriscos_while = ''\n",
    "\n",
    "for i in range(n):\n",
    "    asteriscos_for += '*'\n",
    "\n",
    "j = 0\n",
    "while j < n:\n",
    "    asteriscos_while += '*'\n",
    "    j += 1\n",
    "\n",
    "print(f'for:{asteriscos_for} | while:{asteriscos_while}')"
   ]
  },
  {
   "cell_type": "markdown",
   "id": "033e2c62",
   "metadata": {},
   "source": [
    "8. Escrever um programa que determine o maior valor em uma matriz fornecida pelo usuário. \n",
    "A matriz possui valores inteiros, com 0 < N < 100 linhas e 0≤ N ≤ 100 colunas. "
   ]
  },
  {
   "cell_type": "code",
   "execution_count": 12,
   "id": "d2787036",
   "metadata": {},
   "outputs": [
    {
     "name": "stdout",
     "output_type": "stream",
     "text": [
      "4 4\n",
      "15\n"
     ]
    }
   ],
   "source": [
    "import numpy as np\n",
    "\n",
    "a = np.array([[0,   1,  2,  3],\n",
    "              [4,   5,  6,  7],\n",
    "              [8,   9, 10, 11],\n",
    "              [12, 13, 14, 15]])\n",
    "\n",
    "N,M = a.shape\n",
    "\n",
    "print(N, M)\n",
    "pred = 0\n",
    "\n",
    "for i in range(N):\n",
    "    for j in range(M):\n",
    "        if a[i, j] > pred:\n",
    "            pred = a[i, j]\n",
    "\n",
    "print(pred)"
   ]
  },
  {
   "cell_type": "code",
   "execution_count": null,
   "id": "2f0f784d",
   "metadata": {},
   "outputs": [],
   "source": []
  }
 ],
 "metadata": {
  "kernelspec": {
   "display_name": "Python 3 (ipykernel)",
   "language": "python",
   "name": "python3"
  },
  "language_info": {
   "codemirror_mode": {
    "name": "ipython",
    "version": 3
   },
   "file_extension": ".py",
   "mimetype": "text/x-python",
   "name": "python",
   "nbconvert_exporter": "python",
   "pygments_lexer": "ipython3",
   "version": "3.11.4"
  }
 },
 "nbformat": 4,
 "nbformat_minor": 5
}
